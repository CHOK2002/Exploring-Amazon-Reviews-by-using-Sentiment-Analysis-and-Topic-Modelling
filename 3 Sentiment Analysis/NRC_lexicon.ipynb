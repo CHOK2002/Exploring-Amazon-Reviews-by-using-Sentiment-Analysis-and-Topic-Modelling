{
 "cells": [
  {
   "cell_type": "markdown",
   "metadata": {},
   "source": [
    "### NRC Lexicon"
   ]
  },
  {
   "cell_type": "markdown",
   "metadata": {},
   "source": [
    "Load dataset"
   ]
  },
  {
   "cell_type": "code",
   "execution_count": 1,
   "metadata": {},
   "outputs": [],
   "source": [
    "import pandas as pd\n",
    "\n",
    "# load the dataset\n",
    "dataset_path = 'amazon_sales_2023_cleaned.csv'\n",
    "df = pd.read_csv(dataset_path)\n",
    "\n",
    "# define the categories to select   Health and Personal Care, Electronics, Home and Kitchen, Toys and Games, Clothing Shoes and Jewelry\n",
    "selected_categories = ['Clothing Shoes and Jewelry']\n",
    "df = df[df['category'].isin(selected_categories)]\n",
    "\n",
    "# define the categories to select   positive neutral negative\n",
    "selected_sentiment = ['negative']\n",
    "df = df[df['sentiment'].isin(selected_sentiment)]"
   ]
  },
  {
   "cell_type": "markdown",
   "metadata": {},
   "source": [
    "MLflow Server"
   ]
  },
  {
   "cell_type": "code",
   "execution_count": 2,
   "metadata": {},
   "outputs": [
    {
     "data": {
      "text/plain": [
       "(49969, 5)"
      ]
     },
     "execution_count": 2,
     "metadata": {},
     "output_type": "execute_result"
    }
   ],
   "source": [
    "import mlflow\n",
    "from mlflow.tracking import MlflowClient\n",
    "\n",
    "# define the model name\n",
    "model_name = \"NRCLex\"\n",
    "\n",
    "# start MLflow\n",
    "mlflow.set_tracking_uri(\"http://127.0.0.1:5000\")\n",
    "mlflow.set_experiment(\"sentiment-emotion\")\n",
    "\n",
    "# initialize MLflow client\n",
    "client = MlflowClient()\n",
    "\n",
    "# experiment ID\n",
    "experiment_id = client.get_experiment_by_name(\"sentiment-emotion\").experiment_id\n",
    "\n",
    "runs = client.search_runs(experiment_ids=[experiment_id])\n",
    "\n",
    "# initial version to 0\n",
    "max_version = 0\n",
    "\n",
    "# find the max version for the current version model\n",
    "for run in runs:\n",
    "    run_name = run.data.tags.get('mlflow.runName')\n",
    "    if run_name and run_name.startswith(model_name):        \n",
    "        # extract version number from the run name\n",
    "        try:\n",
    "            version = int(run_name.split('_v')[-1])\n",
    "        except ValueError:\n",
    "            continue  # skip if version is not an integer\n",
    "\n",
    "        # update max_version if this version is greater\n",
    "        max_version = max(max_version, version)\n",
    "\n",
    "# increase the version by adding 1\n",
    "new_version = max_version + 1\n",
    "\n",
    "# new run name\n",
    "new_run_name = f\"{model_name}_v{new_version}\"\n",
    "mlflow.start_run(run_name=new_run_name)\n",
    "\n",
    "mlflow.log_param(\"model name\", model_name)\n",
    "mlflow.log_param(\"dataset_name\", dataset_path)\n",
    "mlflow.log_param(\"category\", selected_categories)\n",
    "mlflow.log_param(\"sentiment\", selected_sentiment)\n",
    "mlflow.log_param(\"data size\", df.shape)"
   ]
  },
  {
   "cell_type": "markdown",
   "metadata": {},
   "source": [
    "NRC algorithm"
   ]
  },
  {
   "cell_type": "code",
   "execution_count": 3,
   "metadata": {},
   "outputs": [
    {
     "name": "stdout",
     "output_type": "stream",
     "text": [
      "                                               reviewText dominant_emotion\n",
      "599540  spyglass made china original boy spyglass buy ...          disgust\n",
      "599541  ordered lens fade got plain black much large l...            trust\n",
      "599542  material pack cotton boy short stretch much ma...          disgust\n",
      "599543  product evening one item missing instruction t...          sadness\n",
      "599544  sized return get different style still love mi...              joy\n"
     ]
    }
   ],
   "source": [
    "from nrclex import NRCLex\n",
    "\n",
    "# NRC lexicon\n",
    "def classify_emotion(text):\n",
    "    \n",
    "    emotion_obj = NRCLex(text)\n",
    "    emotions = emotion_obj.raw_emotion_scores\n",
    "\n",
    "    # filter out positive and negative from the emotion list\n",
    "    core_emotions = {key: value for key, value in emotions.items() if key not in ['positive', 'negative']}\n",
    "    \n",
    "    if not core_emotions:\n",
    "        return None \n",
    "    \n",
    "    # get the highest score of dominant emotion\n",
    "    dominant_emotion = max(core_emotions, key=core_emotions.get)\n",
    "    return dominant_emotion\n",
    "\n",
    "# # Function to classify emotions based on NRC lexicon\n",
    "# def classify_emotion(text, threshold=0.1, return_score=False):\n",
    "#     emotion_obj = NRCLex(text)\n",
    "    \n",
    "#     # Get the emotion scores and filter out 'positive' and 'negative'\n",
    "#     emotions = {k: v for k, v in emotion_obj.raw_emotion_scores.items() if k not in ['positive', 'negative']}\n",
    "    \n",
    "#     if not emotions:\n",
    "#         return None  # Return None if no core emotions are found\n",
    "    \n",
    "#     # Normalize scores to sum up to 1 for easier interpretation\n",
    "#     total_score = sum(emotions.values())\n",
    "#     normalized_emotions = {k: v / total_score for k, v in emotions.items()} if total_score > 0 else emotions\n",
    "\n",
    "#     # Filter emotions below the threshold (optional)\n",
    "#     filtered_emotions = {k: v for k, v in normalized_emotions.items() if v >= threshold}\n",
    "\n",
    "#     if not filtered_emotions:\n",
    "#         return None  # Return None if no emotions meet the threshold\n",
    "    \n",
    "#     # Identify dominant emotion(s) with the highest score\n",
    "#     max_score = max(filtered_emotions.values())\n",
    "#     dominant_emotions = [k for k, v in filtered_emotions.items() if v == max_score]\n",
    "    \n",
    "#     # If return_score is True, return the dominant emotion(s) and their score(s)\n",
    "#     if return_score:\n",
    "#         return {emotion: filtered_emotions[emotion] for emotion in dominant_emotions}\n",
    "    \n",
    "#     # Return single emotion if there's only one dominant emotion, otherwise a list of emotions\n",
    "#     return dominant_emotions[0] if len(dominant_emotions) == 1 else dominant_emotions\n",
    "\n",
    "# apply to each reviews\n",
    "df['dominant_emotion'] = df['reviewText'].apply(classify_emotion)\n",
    "\n",
    "print(df[['reviewText', 'dominant_emotion']].head())"
   ]
  },
  {
   "cell_type": "markdown",
   "metadata": {},
   "source": [
    "Log top 3 emotion to mlflow"
   ]
  },
  {
   "cell_type": "code",
   "execution_count": 4,
   "metadata": {},
   "outputs": [
    {
     "data": {
      "text/plain": [
       "'anticipation, trust, sadness'"
      ]
     },
     "execution_count": 4,
     "metadata": {},
     "output_type": "execute_result"
    }
   ],
   "source": [
    "# log top3 emotions\n",
    "top_emotions = df['dominant_emotion'].value_counts().nlargest(3).index.tolist()\n",
    "top_emotions_str = \", \".join(top_emotions)\n",
    "\n",
    "mlflow.log_param(\"top_emotions\", top_emotions_str)"
   ]
  },
  {
   "cell_type": "markdown",
   "metadata": {},
   "source": [
    "Testing"
   ]
  },
  {
   "cell_type": "code",
   "execution_count": 5,
   "metadata": {},
   "outputs": [],
   "source": [
    "# from nrclex import NRCLex\n",
    "\n",
    "# # The sentence to analyze\n",
    "# text = \"My 4 yr old daughter got this doll for Christmas b/c she loves play with hair & make-up. However after about a week, the hair was so unmanageable that she has not been able to play with it since. I have tried several products...conditioner, fabric softener, etc...to try to detangle the hair, but nothing works. This product was a huge disappointment & a huge waste of money. I do NOT recommend it.\"\n",
    "\n",
    "# # Function to classify emotions based on NRC lexicon\n",
    "# def classify_emotion(text):\n",
    "#     emotion_obj = NRCLex(text)\n",
    "#     # Get the emotion scores\n",
    "#     emotions = emotion_obj.raw_emotion_scores\n",
    "\n",
    "#     # Filter out 'positive' and 'negative' from the emotion list\n",
    "#     core_emotions = {key: value for key, value in emotions.items() if key not in ['positive', 'negative']}\n",
    "    \n",
    "#     if not core_emotions:\n",
    "#         return None  # If no emotion is found, return None\n",
    "    \n",
    "#     # Find the dominant emotion with the highest score\n",
    "#     dominant_emotion = max(core_emotions, key=core_emotions.get)\n",
    "#     return dominant_emotion\n",
    "\n",
    "# # Detect the dominant emotion in the sentence\n",
    "# dominant_emotion = classify_emotion(text)\n",
    "# print(\"Dominant Emotion:\", dominant_emotion)\n"
   ]
  }
 ],
 "metadata": {
  "kernelspec": {
   "display_name": "mlmodels",
   "language": "python",
   "name": "python3"
  },
  "language_info": {
   "codemirror_mode": {
    "name": "ipython",
    "version": 3
   },
   "file_extension": ".py",
   "mimetype": "text/x-python",
   "name": "python",
   "nbconvert_exporter": "python",
   "pygments_lexer": "ipython3",
   "version": "3.12.4"
  }
 },
 "nbformat": 4,
 "nbformat_minor": 2
}
