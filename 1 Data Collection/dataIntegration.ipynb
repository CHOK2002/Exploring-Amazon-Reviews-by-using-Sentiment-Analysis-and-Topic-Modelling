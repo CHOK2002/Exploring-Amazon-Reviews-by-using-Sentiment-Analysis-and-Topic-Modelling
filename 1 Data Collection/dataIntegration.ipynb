{
 "cells": [
  {
   "cell_type": "markdown",
   "metadata": {},
   "source": [
    "### Data Integration"
   ]
  },
  {
   "cell_type": "markdown",
   "metadata": {},
   "source": [
    "Integrating with all 24 csv files"
   ]
  },
  {
   "cell_type": "code",
   "execution_count": 1,
   "metadata": {},
   "outputs": [
    {
     "name": "stdout",
     "output_type": "stream",
     "text": [
      "CSV files found: ['D:/Self Practice/Amazon Product Reviews 2023/1 Data Collection/Amazon reviews csv file\\\\reviews_Amazon_Instant_Video.csv', 'D:/Self Practice/Amazon Product Reviews 2023/1 Data Collection/Amazon reviews csv file\\\\reviews_Apps_for_Android.csv', 'D:/Self Practice/Amazon Product Reviews 2023/1 Data Collection/Amazon reviews csv file\\\\reviews_Automotive.csv', 'D:/Self Practice/Amazon Product Reviews 2023/1 Data Collection/Amazon reviews csv file\\\\reviews_Baby.csv', 'D:/Self Practice/Amazon Product Reviews 2023/1 Data Collection/Amazon reviews csv file\\\\reviews_Beauty.csv', 'D:/Self Practice/Amazon Product Reviews 2023/1 Data Collection/Amazon reviews csv file\\\\reviews_Books.csv', 'D:/Self Practice/Amazon Product Reviews 2023/1 Data Collection/Amazon reviews csv file\\\\reviews_CDs_and_Vinyl.csv', 'D:/Self Practice/Amazon Product Reviews 2023/1 Data Collection/Amazon reviews csv file\\\\reviews_Cell_Phones_and_Accessories.csv', 'D:/Self Practice/Amazon Product Reviews 2023/1 Data Collection/Amazon reviews csv file\\\\reviews_Clothing_Shoes_and_Jewelry.csv', 'D:/Self Practice/Amazon Product Reviews 2023/1 Data Collection/Amazon reviews csv file\\\\reviews_Digital_Music.csv', 'D:/Self Practice/Amazon Product Reviews 2023/1 Data Collection/Amazon reviews csv file\\\\reviews_Electronics.csv', 'D:/Self Practice/Amazon Product Reviews 2023/1 Data Collection/Amazon reviews csv file\\\\reviews_Grocery_and_Gourmet_Food.csv', 'D:/Self Practice/Amazon Product Reviews 2023/1 Data Collection/Amazon reviews csv file\\\\reviews_Health_and_Personal_Care.csv', 'D:/Self Practice/Amazon Product Reviews 2023/1 Data Collection/Amazon reviews csv file\\\\reviews_Home_and_Kitchen.csv', 'D:/Self Practice/Amazon Product Reviews 2023/1 Data Collection/Amazon reviews csv file\\\\reviews_Kindle_Store.csv', 'D:/Self Practice/Amazon Product Reviews 2023/1 Data Collection/Amazon reviews csv file\\\\reviews_Movies_and_TV.csv', 'D:/Self Practice/Amazon Product Reviews 2023/1 Data Collection/Amazon reviews csv file\\\\reviews_Musical_Instruments.csv', 'D:/Self Practice/Amazon Product Reviews 2023/1 Data Collection/Amazon reviews csv file\\\\reviews_Office_Products.csv', 'D:/Self Practice/Amazon Product Reviews 2023/1 Data Collection/Amazon reviews csv file\\\\reviews_Patio_Lawn_and_Garden.csv', 'D:/Self Practice/Amazon Product Reviews 2023/1 Data Collection/Amazon reviews csv file\\\\reviews_Pet_Supplies.csv', 'D:/Self Practice/Amazon Product Reviews 2023/1 Data Collection/Amazon reviews csv file\\\\reviews_Sports_and_Outdoors.csv', 'D:/Self Practice/Amazon Product Reviews 2023/1 Data Collection/Amazon reviews csv file\\\\reviews_Tools_and_Home_Improvement.csv', 'D:/Self Practice/Amazon Product Reviews 2023/1 Data Collection/Amazon reviews csv file\\\\reviews_Toys_and_Games.csv', 'D:/Self Practice/Amazon Product Reviews 2023/1 Data Collection/Amazon reviews csv file\\\\reviews_Video_Games.csv']\n",
      "Loaded: D:/Self Practice/Amazon Product Reviews 2023/1 Data Collection/Amazon reviews csv file\\reviews_Amazon_Instant_Video.csv\n",
      "Loaded: D:/Self Practice/Amazon Product Reviews 2023/1 Data Collection/Amazon reviews csv file\\reviews_Apps_for_Android.csv\n",
      "Loaded: D:/Self Practice/Amazon Product Reviews 2023/1 Data Collection/Amazon reviews csv file\\reviews_Automotive.csv\n",
      "Loaded: D:/Self Practice/Amazon Product Reviews 2023/1 Data Collection/Amazon reviews csv file\\reviews_Baby.csv\n",
      "Loaded: D:/Self Practice/Amazon Product Reviews 2023/1 Data Collection/Amazon reviews csv file\\reviews_Beauty.csv\n",
      "Loaded: D:/Self Practice/Amazon Product Reviews 2023/1 Data Collection/Amazon reviews csv file\\reviews_Books.csv\n",
      "Loaded: D:/Self Practice/Amazon Product Reviews 2023/1 Data Collection/Amazon reviews csv file\\reviews_CDs_and_Vinyl.csv\n",
      "Loaded: D:/Self Practice/Amazon Product Reviews 2023/1 Data Collection/Amazon reviews csv file\\reviews_Cell_Phones_and_Accessories.csv\n",
      "Loaded: D:/Self Practice/Amazon Product Reviews 2023/1 Data Collection/Amazon reviews csv file\\reviews_Clothing_Shoes_and_Jewelry.csv\n",
      "Loaded: D:/Self Practice/Amazon Product Reviews 2023/1 Data Collection/Amazon reviews csv file\\reviews_Digital_Music.csv\n",
      "Loaded: D:/Self Practice/Amazon Product Reviews 2023/1 Data Collection/Amazon reviews csv file\\reviews_Electronics.csv\n",
      "Loaded: D:/Self Practice/Amazon Product Reviews 2023/1 Data Collection/Amazon reviews csv file\\reviews_Grocery_and_Gourmet_Food.csv\n",
      "Loaded: D:/Self Practice/Amazon Product Reviews 2023/1 Data Collection/Amazon reviews csv file\\reviews_Health_and_Personal_Care.csv\n",
      "Loaded: D:/Self Practice/Amazon Product Reviews 2023/1 Data Collection/Amazon reviews csv file\\reviews_Home_and_Kitchen.csv\n",
      "Loaded: D:/Self Practice/Amazon Product Reviews 2023/1 Data Collection/Amazon reviews csv file\\reviews_Kindle_Store.csv\n",
      "Loaded: D:/Self Practice/Amazon Product Reviews 2023/1 Data Collection/Amazon reviews csv file\\reviews_Movies_and_TV.csv\n",
      "Loaded: D:/Self Practice/Amazon Product Reviews 2023/1 Data Collection/Amazon reviews csv file\\reviews_Musical_Instruments.csv\n",
      "Loaded: D:/Self Practice/Amazon Product Reviews 2023/1 Data Collection/Amazon reviews csv file\\reviews_Office_Products.csv\n",
      "Loaded: D:/Self Practice/Amazon Product Reviews 2023/1 Data Collection/Amazon reviews csv file\\reviews_Patio_Lawn_and_Garden.csv\n",
      "Loaded: D:/Self Practice/Amazon Product Reviews 2023/1 Data Collection/Amazon reviews csv file\\reviews_Pet_Supplies.csv\n",
      "Loaded: D:/Self Practice/Amazon Product Reviews 2023/1 Data Collection/Amazon reviews csv file\\reviews_Sports_and_Outdoors.csv\n",
      "Loaded: D:/Self Practice/Amazon Product Reviews 2023/1 Data Collection/Amazon reviews csv file\\reviews_Tools_and_Home_Improvement.csv\n",
      "Loaded: D:/Self Practice/Amazon Product Reviews 2023/1 Data Collection/Amazon reviews csv file\\reviews_Toys_and_Games.csv\n",
      "Loaded: D:/Self Practice/Amazon Product Reviews 2023/1 Data Collection/Amazon reviews csv file\\reviews_Video_Games.csv\n",
      "All CSV files have been concatenated successfully!\n"
     ]
    }
   ],
   "source": [
    "import pandas as pd\n",
    "import glob\n",
    "\n",
    "path = 'D:/Self Practice/Amazon Product Reviews 2023/1 Data Collection/Amazon reviews csv file/' \n",
    "all_files = glob.glob(path + \"*.csv\")  \n",
    "\n",
    "print(\"CSV files found:\", all_files)  \n",
    "\n",
    "dataframes = []\n",
    "\n",
    "for filename in all_files:\n",
    "    try:\n",
    "        df = pd.read_csv(filename)\n",
    "        dataframes.append(df)\n",
    "        print(f\"Loaded: {filename}\")  \n",
    "    except Exception as e:\n",
    "        print(f\"Error loading {filename}: {e}\")\n",
    "\n",
    "# concatenate all DataFrames in the list\n",
    "if dataframes:\n",
    "    combined_df = pd.concat(dataframes, ignore_index=True)\n",
    "\n",
    "    # save the combined DataFrame to a new CSV file\n",
    "    combined_df.to_csv('amazon_sales_2023.csv', index=False)\n",
    "    print(\"All CSV files have been concatenated successfully!\")\n",
    "else:\n",
    "    print(\"No CSV files were loaded. Please check the path and file contents.\")\n"
   ]
  },
  {
   "cell_type": "code",
   "execution_count": 2,
   "metadata": {},
   "outputs": [
    {
     "data": {
      "text/plain": [
       "(3570676, 5)"
      ]
     },
     "execution_count": 2,
     "metadata": {},
     "output_type": "execute_result"
    }
   ],
   "source": [
    "combined_df.shape"
   ]
  },
  {
   "cell_type": "code",
   "execution_count": 3,
   "metadata": {},
   "outputs": [
    {
     "data": {
      "text/plain": [
       "sentiment\n",
       "positive    1200000\n",
       "negative    1199733\n",
       "neutral     1170943\n",
       "Name: count, dtype: int64"
      ]
     },
     "execution_count": 3,
     "metadata": {},
     "output_type": "execute_result"
    }
   ],
   "source": [
    "combined_df['sentiment'].value_counts()"
   ]
  },
  {
   "cell_type": "code",
   "execution_count": 4,
   "metadata": {},
   "outputs": [
    {
     "data": {
      "text/html": [
       "<div>\n",
       "<style scoped>\n",
       "    .dataframe tbody tr th:only-of-type {\n",
       "        vertical-align: middle;\n",
       "    }\n",
       "\n",
       "    .dataframe tbody tr th {\n",
       "        vertical-align: top;\n",
       "    }\n",
       "\n",
       "    .dataframe thead th {\n",
       "        text-align: right;\n",
       "    }\n",
       "</style>\n",
       "<table border=\"1\" class=\"dataframe\">\n",
       "  <thead>\n",
       "    <tr style=\"text-align: right;\">\n",
       "      <th></th>\n",
       "      <th>reviewText</th>\n",
       "      <th>overall</th>\n",
       "      <th>reviewTime</th>\n",
       "      <th>sentiment</th>\n",
       "      <th>category</th>\n",
       "    </tr>\n",
       "  </thead>\n",
       "  <tbody>\n",
       "    <tr>\n",
       "      <th>0</th>\n",
       "      <td>It seems the writer of the book surrendered cr...</td>\n",
       "      <td>2</td>\n",
       "      <td>05 21, 2014</td>\n",
       "      <td>negative</td>\n",
       "      <td>Amazon Instant Video</td>\n",
       "    </tr>\n",
       "    <tr>\n",
       "      <th>1</th>\n",
       "      <td>I am a movie buff. I watched this movie expect...</td>\n",
       "      <td>2</td>\n",
       "      <td>05 17, 2013</td>\n",
       "      <td>negative</td>\n",
       "      <td>Amazon Instant Video</td>\n",
       "    </tr>\n",
       "    <tr>\n",
       "      <th>2</th>\n",
       "      <td>I was disappointed that within the first 10 mi...</td>\n",
       "      <td>1</td>\n",
       "      <td>02 18, 2014</td>\n",
       "      <td>negative</td>\n",
       "      <td>Amazon Instant Video</td>\n",
       "    </tr>\n",
       "    <tr>\n",
       "      <th>3</th>\n",
       "      <td>This is just a re shoot of the original UK ser...</td>\n",
       "      <td>1</td>\n",
       "      <td>02 20, 2012</td>\n",
       "      <td>negative</td>\n",
       "      <td>Amazon Instant Video</td>\n",
       "    </tr>\n",
       "    <tr>\n",
       "      <th>4</th>\n",
       "      <td>I tried twice, but both times the first disk o...</td>\n",
       "      <td>1</td>\n",
       "      <td>08 20, 2010</td>\n",
       "      <td>negative</td>\n",
       "      <td>Amazon Instant Video</td>\n",
       "    </tr>\n",
       "    <tr>\n",
       "      <th>5</th>\n",
       "      <td>My son recommended this film but warned me in ...</td>\n",
       "      <td>2</td>\n",
       "      <td>04 13, 2013</td>\n",
       "      <td>negative</td>\n",
       "      <td>Amazon Instant Video</td>\n",
       "    </tr>\n",
       "    <tr>\n",
       "      <th>6</th>\n",
       "      <td>So weak in so many ways. Amazon should be emba...</td>\n",
       "      <td>1</td>\n",
       "      <td>03 28, 2014</td>\n",
       "      <td>negative</td>\n",
       "      <td>Amazon Instant Video</td>\n",
       "    </tr>\n",
       "    <tr>\n",
       "      <th>7</th>\n",
       "      <td>Bizarre..unwatchable...and trying way too hard...</td>\n",
       "      <td>1</td>\n",
       "      <td>02 6, 2014</td>\n",
       "      <td>negative</td>\n",
       "      <td>Amazon Instant Video</td>\n",
       "    </tr>\n",
       "    <tr>\n",
       "      <th>8</th>\n",
       "      <td>I should have read the reviews!  I enjoy yoga ...</td>\n",
       "      <td>2</td>\n",
       "      <td>01 29, 2014</td>\n",
       "      <td>negative</td>\n",
       "      <td>Amazon Instant Video</td>\n",
       "    </tr>\n",
       "    <tr>\n",
       "      <th>9</th>\n",
       "      <td>bought the single episode that was supposed to...</td>\n",
       "      <td>1</td>\n",
       "      <td>11 3, 2013</td>\n",
       "      <td>negative</td>\n",
       "      <td>Amazon Instant Video</td>\n",
       "    </tr>\n",
       "  </tbody>\n",
       "</table>\n",
       "</div>"
      ],
      "text/plain": [
       "                                          reviewText  overall   reviewTime  \\\n",
       "0  It seems the writer of the book surrendered cr...        2  05 21, 2014   \n",
       "1  I am a movie buff. I watched this movie expect...        2  05 17, 2013   \n",
       "2  I was disappointed that within the first 10 mi...        1  02 18, 2014   \n",
       "3  This is just a re shoot of the original UK ser...        1  02 20, 2012   \n",
       "4  I tried twice, but both times the first disk o...        1  08 20, 2010   \n",
       "5  My son recommended this film but warned me in ...        2  04 13, 2013   \n",
       "6  So weak in so many ways. Amazon should be emba...        1  03 28, 2014   \n",
       "7  Bizarre..unwatchable...and trying way too hard...        1   02 6, 2014   \n",
       "8  I should have read the reviews!  I enjoy yoga ...        2  01 29, 2014   \n",
       "9  bought the single episode that was supposed to...        1   11 3, 2013   \n",
       "\n",
       "  sentiment              category  \n",
       "0  negative  Amazon Instant Video  \n",
       "1  negative  Amazon Instant Video  \n",
       "2  negative  Amazon Instant Video  \n",
       "3  negative  Amazon Instant Video  \n",
       "4  negative  Amazon Instant Video  \n",
       "5  negative  Amazon Instant Video  \n",
       "6  negative  Amazon Instant Video  \n",
       "7  negative  Amazon Instant Video  \n",
       "8  negative  Amazon Instant Video  \n",
       "9  negative  Amazon Instant Video  "
      ]
     },
     "execution_count": 4,
     "metadata": {},
     "output_type": "execute_result"
    }
   ],
   "source": [
    "combined_df.head(10)"
   ]
  }
 ],
 "metadata": {
  "kernelspec": {
   "display_name": "mlmodels",
   "language": "python",
   "name": "python3"
  },
  "language_info": {
   "codemirror_mode": {
    "name": "ipython",
    "version": 3
   },
   "file_extension": ".py",
   "mimetype": "text/x-python",
   "name": "python",
   "nbconvert_exporter": "python",
   "pygments_lexer": "ipython3",
   "version": "3.12.4"
  }
 },
 "nbformat": 4,
 "nbformat_minor": 2
}
