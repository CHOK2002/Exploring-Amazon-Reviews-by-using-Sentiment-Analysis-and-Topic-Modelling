{
 "cells": [
  {
   "cell_type": "markdown",
   "metadata": {},
   "source": [
    "### Data Collection"
   ]
  },
  {
   "cell_type": "markdown",
   "metadata": {},
   "source": [
    "Total 24 categories of Amazon reviews data"
   ]
  },
  {
   "cell_type": "code",
   "execution_count": 1,
   "metadata": {},
   "outputs": [
    {
     "data": {
      "text/html": [
       "<div>\n",
       "<style scoped>\n",
       "    .dataframe tbody tr th:only-of-type {\n",
       "        vertical-align: middle;\n",
       "    }\n",
       "\n",
       "    .dataframe tbody tr th {\n",
       "        vertical-align: top;\n",
       "    }\n",
       "\n",
       "    .dataframe thead th {\n",
       "        text-align: right;\n",
       "    }\n",
       "</style>\n",
       "<table border=\"1\" class=\"dataframe\">\n",
       "  <thead>\n",
       "    <tr style=\"text-align: right;\">\n",
       "      <th></th>\n",
       "      <th>reviewerID</th>\n",
       "      <th>asin</th>\n",
       "      <th>reviewerName</th>\n",
       "      <th>helpful</th>\n",
       "      <th>reviewText</th>\n",
       "      <th>overall</th>\n",
       "      <th>summary</th>\n",
       "      <th>unixReviewTime</th>\n",
       "      <th>reviewTime</th>\n",
       "    </tr>\n",
       "  </thead>\n",
       "  <tbody>\n",
       "    <tr>\n",
       "      <th>0</th>\n",
       "      <td>AB9S9279OZ3QO</td>\n",
       "      <td>0078764343</td>\n",
       "      <td>Alan</td>\n",
       "      <td>[1, 1]</td>\n",
       "      <td>I haven't gotten around to playing the campaig...</td>\n",
       "      <td>5</td>\n",
       "      <td>Good game and Beta access!!</td>\n",
       "      <td>1373155200</td>\n",
       "      <td>07 7, 2013</td>\n",
       "    </tr>\n",
       "    <tr>\n",
       "      <th>1</th>\n",
       "      <td>A24SSUT5CSW8BH</td>\n",
       "      <td>0078764343</td>\n",
       "      <td>Kindle Customer</td>\n",
       "      <td>[0, 0]</td>\n",
       "      <td>I want to start off by saying I have never pla...</td>\n",
       "      <td>5</td>\n",
       "      <td>Love the game</td>\n",
       "      <td>1377302400</td>\n",
       "      <td>08 24, 2013</td>\n",
       "    </tr>\n",
       "    <tr>\n",
       "      <th>2</th>\n",
       "      <td>AK3V0HEBJMQ7J</td>\n",
       "      <td>0078764343</td>\n",
       "      <td>Miss Kris \"Krissy\"</td>\n",
       "      <td>[0, 0]</td>\n",
       "      <td>this will be my second medal of honor I love h...</td>\n",
       "      <td>4</td>\n",
       "      <td>MOH nice</td>\n",
       "      <td>1372896000</td>\n",
       "      <td>07 4, 2013</td>\n",
       "    </tr>\n",
       "    <tr>\n",
       "      <th>3</th>\n",
       "      <td>A10BECPH7W8HM7</td>\n",
       "      <td>043933702X</td>\n",
       "      <td>GMC \"Old Time Modeler\"</td>\n",
       "      <td>[0, 0]</td>\n",
       "      <td>great game when it first came out, and still a...</td>\n",
       "      <td>5</td>\n",
       "      <td>Five Stars</td>\n",
       "      <td>1404950400</td>\n",
       "      <td>07 10, 2014</td>\n",
       "    </tr>\n",
       "    <tr>\n",
       "      <th>4</th>\n",
       "      <td>A2PRV9OULX1TWP</td>\n",
       "      <td>043933702X</td>\n",
       "      <td>grimi</td>\n",
       "      <td>[0, 0]</td>\n",
       "      <td>this is the first need for speed I bought year...</td>\n",
       "      <td>5</td>\n",
       "      <td>memory lane</td>\n",
       "      <td>1386115200</td>\n",
       "      <td>12 4, 2013</td>\n",
       "    </tr>\n",
       "  </tbody>\n",
       "</table>\n",
       "</div>"
      ],
      "text/plain": [
       "       reviewerID        asin            reviewerName helpful  \\\n",
       "0   AB9S9279OZ3QO  0078764343                    Alan  [1, 1]   \n",
       "1  A24SSUT5CSW8BH  0078764343         Kindle Customer  [0, 0]   \n",
       "2   AK3V0HEBJMQ7J  0078764343      Miss Kris \"Krissy\"  [0, 0]   \n",
       "3  A10BECPH7W8HM7  043933702X  GMC \"Old Time Modeler\"  [0, 0]   \n",
       "4  A2PRV9OULX1TWP  043933702X                   grimi  [0, 0]   \n",
       "\n",
       "                                          reviewText  overall  \\\n",
       "0  I haven't gotten around to playing the campaig...        5   \n",
       "1  I want to start off by saying I have never pla...        5   \n",
       "2  this will be my second medal of honor I love h...        4   \n",
       "3  great game when it first came out, and still a...        5   \n",
       "4  this is the first need for speed I bought year...        5   \n",
       "\n",
       "                       summary  unixReviewTime   reviewTime  \n",
       "0  Good game and Beta access!!      1373155200   07 7, 2013  \n",
       "1                Love the game      1377302400  08 24, 2013  \n",
       "2                     MOH nice      1372896000   07 4, 2013  \n",
       "3                   Five Stars      1404950400  07 10, 2014  \n",
       "4                  memory lane      1386115200   12 4, 2013  "
      ]
     },
     "execution_count": 1,
     "metadata": {},
     "output_type": "execute_result"
    }
   ],
   "source": [
    "import pandas as pd\n",
    "\n",
    "df = pd.read_json('reviews_Video_Games.json.gz', lines=True)\n",
    "df.head()"
   ]
  },
  {
   "cell_type": "code",
   "execution_count": 2,
   "metadata": {},
   "outputs": [
    {
     "data": {
      "text/plain": [
       "(1324753, 9)"
      ]
     },
     "execution_count": 2,
     "metadata": {},
     "output_type": "execute_result"
    }
   ],
   "source": [
    "df.shape"
   ]
  },
  {
   "cell_type": "markdown",
   "metadata": {},
   "source": [
    "Check unique counts for each columns"
   ]
  },
  {
   "cell_type": "code",
   "execution_count": 3,
   "metadata": {},
   "outputs": [
    {
     "name": "stderr",
     "output_type": "stream",
     "text": [
      "C:\\Users\\Joe Chok\\AppData\\Local\\Temp\\ipykernel_3900\\441019928.py:1: FutureWarning: DataFrame.applymap has been deprecated. Use DataFrame.map instead.\n",
      "  df = df.applymap(lambda x: tuple(x) if isinstance(x, list) else x)\n"
     ]
    },
    {
     "data": {
      "text/plain": [
       "reviewerID         826767\n",
       "asin                50210\n",
       "reviewerName       632327\n",
       "helpful              7939\n",
       "reviewText        1322560\n",
       "overall                 5\n",
       "summary            869792\n",
       "unixReviewTime       5396\n",
       "reviewTime           5396\n",
       "dtype: int64"
      ]
     },
     "execution_count": 3,
     "metadata": {},
     "output_type": "execute_result"
    }
   ],
   "source": [
    "df = df.applymap(lambda x: tuple(x) if isinstance(x, list) else x)\n",
    "df.nunique()"
   ]
  },
  {
   "cell_type": "markdown",
   "metadata": {},
   "source": [
    "Check the overall rating score unique counts"
   ]
  },
  {
   "cell_type": "code",
   "execution_count": 4,
   "metadata": {},
   "outputs": [
    {
     "data": {
      "text/plain": [
       "overall\n",
       "5    709770\n",
       "4    260260\n",
       "1    152840\n",
       "3    124370\n",
       "2     77513\n",
       "Name: count, dtype: int64"
      ]
     },
     "execution_count": 4,
     "metadata": {},
     "output_type": "execute_result"
    }
   ],
   "source": [
    "df['overall'].value_counts()"
   ]
  },
  {
   "cell_type": "markdown",
   "metadata": {},
   "source": [
    "Create sentiment label based on rating score"
   ]
  },
  {
   "cell_type": "code",
   "execution_count": 5,
   "metadata": {},
   "outputs": [
    {
     "data": {
      "text/plain": [
       "sentiment\n",
       "positive    970030\n",
       "negative    230353\n",
       "neutral     124370\n",
       "Name: count, dtype: int64"
      ]
     },
     "execution_count": 5,
     "metadata": {},
     "output_type": "execute_result"
    }
   ],
   "source": [
    "df['sentiment'] = df['overall'].apply(lambda x: 'positive' if x in [4, 5] else ('neutral' if x == 3 else 'negative'))\n",
    "df['sentiment'].value_counts()"
   ]
  },
  {
   "cell_type": "markdown",
   "metadata": {},
   "source": [
    "Subset each sentiment for 50K data only"
   ]
  },
  {
   "cell_type": "code",
   "execution_count": 6,
   "metadata": {},
   "outputs": [
    {
     "name": "stderr",
     "output_type": "stream",
     "text": [
      "C:\\Users\\Joe Chok\\AppData\\Local\\Temp\\ipykernel_3900\\2001473947.py:4: DeprecationWarning: DataFrameGroupBy.apply operated on the grouping columns. This behavior is deprecated, and in a future version of pandas the grouping columns will be excluded from the operation. Either pass `include_groups=False` to exclude the groupings or explicitly select the grouping columns after groupby to silence this warning.\n",
      "  df = df.groupby('sentiment').apply(lambda x: x.sample(n=min(len(x), sample_size), random_state=42)).reset_index(drop=True)\n"
     ]
    },
    {
     "data": {
      "text/plain": [
       "sentiment\n",
       "negative    50000\n",
       "neutral     50000\n",
       "positive    50000\n",
       "Name: count, dtype: int64"
      ]
     },
     "execution_count": 6,
     "metadata": {},
     "output_type": "execute_result"
    }
   ],
   "source": [
    "sample_size = 50000\n",
    "\n",
    "# sample 50k or less if there are fewer rows\n",
    "df = df.groupby('sentiment').apply(lambda x: x.sample(n=min(len(x), sample_size), random_state=42)).reset_index(drop=True)\n",
    "\n",
    "df['sentiment'].value_counts()"
   ]
  },
  {
   "cell_type": "code",
   "execution_count": 7,
   "metadata": {},
   "outputs": [
    {
     "data": {
      "text/plain": [
       "(150000, 10)"
      ]
     },
     "execution_count": 7,
     "metadata": {},
     "output_type": "execute_result"
    }
   ],
   "source": [
    "df.shape"
   ]
  },
  {
   "cell_type": "markdown",
   "metadata": {},
   "source": [
    "Assign Category name"
   ]
  },
  {
   "cell_type": "code",
   "execution_count": 8,
   "metadata": {},
   "outputs": [],
   "source": [
    "df['category'] = 'Video Games'"
   ]
  },
  {
   "cell_type": "code",
   "execution_count": 9,
   "metadata": {},
   "outputs": [
    {
     "data": {
      "text/plain": [
       "(150000, 11)"
      ]
     },
     "execution_count": 9,
     "metadata": {},
     "output_type": "execute_result"
    }
   ],
   "source": [
    "df.shape"
   ]
  },
  {
   "cell_type": "markdown",
   "metadata": {},
   "source": [
    "Select the needed columns"
   ]
  },
  {
   "cell_type": "code",
   "execution_count": 10,
   "metadata": {},
   "outputs": [],
   "source": [
    "df = df[['reviewText', 'overall', 'reviewTime','sentiment', 'category']]"
   ]
  },
  {
   "cell_type": "code",
   "execution_count": 11,
   "metadata": {},
   "outputs": [
    {
     "data": {
      "text/plain": [
       "(150000, 5)"
      ]
     },
     "execution_count": 11,
     "metadata": {},
     "output_type": "execute_result"
    }
   ],
   "source": [
    "df.shape"
   ]
  },
  {
   "cell_type": "markdown",
   "metadata": {},
   "source": [
    "Save to CSV file"
   ]
  },
  {
   "cell_type": "code",
   "execution_count": 12,
   "metadata": {},
   "outputs": [
    {
     "name": "stdout",
     "output_type": "stream",
     "text": [
      "Successfully saved as CSV file'\n"
     ]
    },
    {
     "data": {
      "text/html": [
       "<div>\n",
       "<style scoped>\n",
       "    .dataframe tbody tr th:only-of-type {\n",
       "        vertical-align: middle;\n",
       "    }\n",
       "\n",
       "    .dataframe tbody tr th {\n",
       "        vertical-align: top;\n",
       "    }\n",
       "\n",
       "    .dataframe thead th {\n",
       "        text-align: right;\n",
       "    }\n",
       "</style>\n",
       "<table border=\"1\" class=\"dataframe\">\n",
       "  <thead>\n",
       "    <tr style=\"text-align: right;\">\n",
       "      <th></th>\n",
       "      <th>reviewText</th>\n",
       "      <th>overall</th>\n",
       "      <th>reviewTime</th>\n",
       "      <th>sentiment</th>\n",
       "      <th>category</th>\n",
       "    </tr>\n",
       "  </thead>\n",
       "  <tbody>\n",
       "    <tr>\n",
       "      <th>0</th>\n",
       "      <td>I normally don't write bad reviews cause I bel...</td>\n",
       "      <td>1</td>\n",
       "      <td>01 3, 2014</td>\n",
       "      <td>negative</td>\n",
       "      <td>Video Games</td>\n",
       "    </tr>\n",
       "    <tr>\n",
       "      <th>1</th>\n",
       "      <td>I have been trying to install the software and...</td>\n",
       "      <td>1</td>\n",
       "      <td>02 3, 2011</td>\n",
       "      <td>negative</td>\n",
       "      <td>Video Games</td>\n",
       "    </tr>\n",
       "    <tr>\n",
       "      <th>2</th>\n",
       "      <td>Forza 4 had wayyyyy more features and capabili...</td>\n",
       "      <td>2</td>\n",
       "      <td>12 29, 2013</td>\n",
       "      <td>negative</td>\n",
       "      <td>Video Games</td>\n",
       "    </tr>\n",
       "    <tr>\n",
       "      <th>3</th>\n",
       "      <td>I used this keyboard for about 3 months before...</td>\n",
       "      <td>1</td>\n",
       "      <td>07 16, 2013</td>\n",
       "      <td>negative</td>\n",
       "      <td>Video Games</td>\n",
       "    </tr>\n",
       "    <tr>\n",
       "      <th>4</th>\n",
       "      <td>Blue light of death.  Console worked then a fe...</td>\n",
       "      <td>1</td>\n",
       "      <td>11 26, 2013</td>\n",
       "      <td>negative</td>\n",
       "      <td>Video Games</td>\n",
       "    </tr>\n",
       "  </tbody>\n",
       "</table>\n",
       "</div>"
      ],
      "text/plain": [
       "                                          reviewText  overall   reviewTime  \\\n",
       "0  I normally don't write bad reviews cause I bel...        1   01 3, 2014   \n",
       "1  I have been trying to install the software and...        1   02 3, 2011   \n",
       "2  Forza 4 had wayyyyy more features and capabili...        2  12 29, 2013   \n",
       "3  I used this keyboard for about 3 months before...        1  07 16, 2013   \n",
       "4  Blue light of death.  Console worked then a fe...        1  11 26, 2013   \n",
       "\n",
       "  sentiment     category  \n",
       "0  negative  Video Games  \n",
       "1  negative  Video Games  \n",
       "2  negative  Video Games  \n",
       "3  negative  Video Games  \n",
       "4  negative  Video Games  "
      ]
     },
     "execution_count": 12,
     "metadata": {},
     "output_type": "execute_result"
    }
   ],
   "source": [
    "df.to_csv('reviews_Video_Games.csv', index=False)\n",
    "\n",
    "print(\"Successfully saved as CSV file'\")\n",
    "df.head()"
   ]
  },
  {
   "cell_type": "markdown",
   "metadata": {},
   "source": [
    "### For (Amazon Books and Amazon Electronics) Reviews only (Too large - Memory blast)"
   ]
  },
  {
   "cell_type": "code",
   "execution_count": 13,
   "metadata": {},
   "outputs": [],
   "source": [
    "# import pandas as pd\n",
    "\n",
    "# # Initialize an empty list to store the chunks\n",
    "# chunks = []\n",
    "\n",
    "# # Read the JSON file in chunks\n",
    "# for chunk in pd.read_json('reviews_Electronics.json.gz', lines=True, chunksize=100000):\n",
    "#     chunks.append(chunk)\n",
    "    \n",
    "#     # Stop if we've collected 1,000,000 rows\n",
    "#     if sum(len(c) for c in chunks) >= 1000000:\n",
    "#         break\n",
    "\n",
    "# # Concatenate the chunks into a single DataFrame and slice to keep only the first 1,000,000 rows\n",
    "# df = pd.concat(chunks).head(1000000)\n",
    "\n",
    "# # Display the first few rows of the DataFrame\n",
    "# print(df.head())\n"
   ]
  }
 ],
 "metadata": {
  "kernelspec": {
   "display_name": "mlmodels",
   "language": "python",
   "name": "python3"
  },
  "language_info": {
   "codemirror_mode": {
    "name": "ipython",
    "version": 3
   },
   "file_extension": ".py",
   "mimetype": "text/x-python",
   "name": "python",
   "nbconvert_exporter": "python",
   "pygments_lexer": "ipython3",
   "version": "3.12.4"
  }
 },
 "nbformat": 4,
 "nbformat_minor": 2
}
